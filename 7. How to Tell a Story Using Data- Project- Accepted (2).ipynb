{
 "cells": [
  {
   "cell_type": "markdown",
   "metadata": {
    "slideshow": {
     "slide_type": "slide"
    }
   },
   "source": [
    "# How to Tell a Story Using Data<a class=\"tocSkip\">"
   ]
  },
  {
   "cell_type": "markdown",
   "metadata": {
    "slideshow": {
     "slide_type": "skip"
    },
    "toc": true
   },
   "source": [
    "<h1>Table of Contents<span class=\"tocSkip\"></span></h1>\n",
    "<div class=\"toc\"><ul class=\"toc-item\"><li><span><a href=\"#Project-Description\" data-toc-modified-id=\"Project-Description-1\">Project Description</a></span><ul class=\"toc-item\"><li><span><a href=\"#Step-1.-Download-the-data-and-prepare-it-for-analysis\" data-toc-modified-id=\"Step-1.-Download-the-data-and-prepare-it-for-analysis-1.1\">Step 1. Download the data and prepare it for analysis</a></span><ul class=\"toc-item\"><li><span><a href=\"#Lets-begin-by-taking-a-look-at-our-data-frame.\" data-toc-modified-id=\"Lets-begin-by-taking-a-look-at-our-data-frame.-1.1.1\">Lets begin by taking a look at our data frame.</a></span></li><li><span><a href=\"#Data-description\" data-toc-modified-id=\"Data-description-1.1.2\">Data description</a></span></li><li><span><a href=\"#Conclusion:\" data-toc-modified-id=\"Conclusion:-1.1.3\">Conclusion:</a></span></li></ul></li></ul></li><li><span><a href=\"#Step-2.-Data-analysis\" data-toc-modified-id=\"Step-2.-Data-analysis-2\">Step 2. Data analysis</a></span><ul class=\"toc-item\"><li><span><a href=\"#Investigating-the-proportions-of-the-various-types-of-establishments.\" data-toc-modified-id=\"Investigating-the-proportions-of-the-various-types-of-establishments.-2.1\">Investigating the proportions of the various types of establishments.</a></span><ul class=\"toc-item\"><li><span><a href=\"#Conclusion:\" data-toc-modified-id=\"Conclusion:-2.1.1\">Conclusion:</a></span></li></ul></li><li><span><a href=\"#Investigating-the-proportions-of-chain-and-non-chain-establishments.\" data-toc-modified-id=\"Investigating-the-proportions-of-chain-and-non-chain-establishments.-2.2\">Investigating the proportions of chain and non-chain establishments.</a></span><ul class=\"toc-item\"><li><span><a href=\"#Conclusion:\" data-toc-modified-id=\"Conclusion:-2.2.1\">Conclusion:</a></span></li></ul></li><li><span><a href=\"#Which-type-of-establishment-is-typically-a-chain?\" data-toc-modified-id=\"Which-type-of-establishment-is-typically-a-chain?-2.3\">Which type of establishment is typically a chain?</a></span><ul class=\"toc-item\"><li><span><a href=\"#Conclusion:\" data-toc-modified-id=\"Conclusion:-2.3.1\">Conclusion:</a></span></li></ul></li><li><span><a href=\"#What-characterizes-chains:-many-establishments-with-a-small-number-of-seats-or-a-few-establishments-with-a-lot-of-seats?\" data-toc-modified-id=\"What-characterizes-chains:-many-establishments-with-a-small-number-of-seats-or-a-few-establishments-with-a-lot-of-seats?-2.4\">What characterizes chains: many establishments with a small number of seats or a few establishments with a lot of seats?</a></span><ul class=\"toc-item\"><li><span><a href=\"#Conclusion:\" data-toc-modified-id=\"Conclusion:-2.4.1\">Conclusion:</a></span></li></ul></li><li><span><a href=\"#Determine-the-average-number-of-seats-for-each-type-of-restaurant.-On-average,-which-type-of-restaurant-has-the-greatest-number-of-seats?\" data-toc-modified-id=\"Determine-the-average-number-of-seats-for-each-type-of-restaurant.-On-average,-which-type-of-restaurant-has-the-greatest-number-of-seats?-2.5\">Determine the average number of seats for each type of restaurant. On average, which type of restaurant has the greatest number of seats?</a></span><ul class=\"toc-item\"><li><span><a href=\"#Conclusion:\" data-toc-modified-id=\"Conclusion:-2.5.1\">Conclusion:</a></span></li></ul></li><li><span><a href=\"#Put-the-data-on-street-names-from-the-address-column-in-a-separate-column.\" data-toc-modified-id=\"Put-the-data-on-street-names-from-the-address-column-in-a-separate-column.-2.6\">Put the data on street names from the address column in a separate column.</a></span></li><li><span><a href=\"#The-top-ten-streets-by-number-of-restaurants.\" data-toc-modified-id=\"The-top-ten-streets-by-number-of-restaurants.-2.7\">The top ten streets by number of restaurants.</a></span></li><li><span><a href=\"#Find-the-number-of-streets-that-only-have-one-restaurant.\" data-toc-modified-id=\"Find-the-number-of-streets-that-only-have-one-restaurant.-2.8\">Find the number of streets that only have one restaurant.</a></span></li><li><span><a href=\"#For-streets-with-a-lot-of-restaurants,-look-at-the-distribution-of-the-number-of-seats.-What-trends-can-you-see?\" data-toc-modified-id=\"For-streets-with-a-lot-of-restaurants,-look-at-the-distribution-of-the-number-of-seats.-What-trends-can-you-see?-2.9\">For streets with a lot of restaurants, look at the distribution of the number of seats. What trends can you see?</a></span><ul class=\"toc-item\"><li><span><a href=\"#Conclusion:\" data-toc-modified-id=\"Conclusion:-2.9.1\">Conclusion:</a></span></li></ul></li><li><span><a href=\"#Draw-an-overall-conclusion-and-provide-recommendations-on-restaurant-type-and-number-of-seats.-Comment-on-the-possibility-of-developing-a-chain.\" data-toc-modified-id=\"Draw-an-overall-conclusion-and-provide-recommendations-on-restaurant-type-and-number-of-seats.-Comment-on-the-possibility-of-developing-a-chain.-2.10\">Draw an overall conclusion and provide recommendations on restaurant type and number of seats. Comment on the possibility of developing a chain.</a></span><ul class=\"toc-item\"><li><span><a href=\"#Overall-Conclusion:\" data-toc-modified-id=\"Overall-Conclusion:-2.10.1\">Overall Conclusion:</a></span></li></ul></li></ul></li><li><span><a href=\"#Step-3.-Preparing-a-presentation\" data-toc-modified-id=\"Step-3.-Preparing-a-presentation-3\">Step 3. Preparing a presentation</a></span></li></ul></div>"
   ]
  },
  {
   "cell_type": "markdown",
   "metadata": {
    "slideshow": {
     "slide_type": "slide"
    }
   },
   "source": [
    "# Project Description"
   ]
  },
  {
   "cell_type": "markdown",
   "metadata": {
    "slideshow": {
     "slide_type": "notes"
    }
   },
   "source": [
    "We've decided to open a small robot-run cafe in Los Angeles. The project is promising but expensive, so our partners and I decide to try to attract investors. There is interest in the current market conditions but there is concern if we'll be able to maintain our success when the novelty of robot waiters wears off?\n",
    "\n",
    "My goal is to prepare some market research based on some open-source data on restaurants in LA we obtained. I'll also provide recommendations on restaurant type and number of seats as well as on the possibility of developing a chain.\n",
    "\n",
    "Finally, I'll make a presentation of my research to share with investors"
   ]
  },
  {
   "cell_type": "code",
   "execution_count": 1,
   "metadata": {
    "slideshow": {
     "slide_type": "skip"
    }
   },
   "outputs": [],
   "source": [
    "import pandas as pd\n",
    "import matplotlib.pyplot as plt\n",
    "import matplotlib.dates as mdates\n",
    "import matplotlib.colors as mcolors\n",
    "from matplotlib.ticker import StrMethodFormatter\n",
    "import matplotlib.ticker as mtick\n",
    "from pandas.plotting import register_matplotlib_converters\n",
    "register_matplotlib_converters()\n",
    "import numpy as np\n",
    "import re \n",
    "import plotly.express as px\n",
    "import plotly.graph_objects as go\n",
    "import plotly.graph_objs as go\n",
    "# !pip install usaddress\n",
    "import usaddress\n",
    "# !pip install --upgrade plotly\n",
    "# !pip install lifetimes\n",
    "# !pip install rise\n",
    "import scipy.stats as stats\n",
    "from scipy.stats import iqr\n",
    "from datetime import datetime\n",
    "import datetime as dt\n",
    "import seaborn as sns\n",
    "import warnings\n",
    "from datetime import date, timedelta\n",
    "warnings.filterwarnings('ignore')\n"
   ]
  },
  {
   "cell_type": "markdown",
   "metadata": {
    "slideshow": {
     "slide_type": "skip"
    }
   },
   "source": [
    "## Step 1. Download the data and prepare it for analysis"
   ]
  },
  {
   "cell_type": "code",
   "execution_count": 2,
   "metadata": {
    "slideshow": {
     "slide_type": "skip"
    }
   },
   "outputs": [],
   "source": [
    "try:\n",
    "    data = pd.read_csv('C:/Users/AriAyares/Desktop/Ari/Yandex Data Science Course/7. How to Tell a Story Using Data/project/rest_data_us')\n",
    "\n",
    "except:\n",
    "    data = pd.read_csv('https://code.s3.yandex.net/datasets/rest_data_us.csv')"
   ]
  },
  {
   "cell_type": "markdown",
   "metadata": {
    "slideshow": {
     "slide_type": "skip"
    }
   },
   "source": [
    "### Lets begin by taking a look at our data frame. "
   ]
  },
  {
   "cell_type": "code",
   "execution_count": 3,
   "metadata": {
    "slideshow": {
     "slide_type": "skip"
    }
   },
   "outputs": [
    {
     "data": {
      "text/html": [
       "<div>\n",
       "<style scoped>\n",
       "    .dataframe tbody tr th:only-of-type {\n",
       "        vertical-align: middle;\n",
       "    }\n",
       "\n",
       "    .dataframe tbody tr th {\n",
       "        vertical-align: top;\n",
       "    }\n",
       "\n",
       "    .dataframe thead th {\n",
       "        text-align: right;\n",
       "    }\n",
       "</style>\n",
       "<table border=\"1\" class=\"dataframe\">\n",
       "  <thead>\n",
       "    <tr style=\"text-align: right;\">\n",
       "      <th></th>\n",
       "      <th>id</th>\n",
       "      <th>object_name</th>\n",
       "      <th>address</th>\n",
       "      <th>chain</th>\n",
       "      <th>object_type</th>\n",
       "      <th>number</th>\n",
       "    </tr>\n",
       "  </thead>\n",
       "  <tbody>\n",
       "    <tr>\n",
       "      <th>0</th>\n",
       "      <td>11786</td>\n",
       "      <td>HABITAT COFFEE SHOP</td>\n",
       "      <td>3708 N EAGLE ROCK BLVD</td>\n",
       "      <td>False</td>\n",
       "      <td>Cafe</td>\n",
       "      <td>26</td>\n",
       "    </tr>\n",
       "    <tr>\n",
       "      <th>1</th>\n",
       "      <td>11787</td>\n",
       "      <td>REILLY'S</td>\n",
       "      <td>100 WORLD WAY # 120</td>\n",
       "      <td>False</td>\n",
       "      <td>Restaurant</td>\n",
       "      <td>9</td>\n",
       "    </tr>\n",
       "    <tr>\n",
       "      <th>2</th>\n",
       "      <td>11788</td>\n",
       "      <td>STREET CHURROS</td>\n",
       "      <td>6801 HOLLYWOOD BLVD # 253</td>\n",
       "      <td>False</td>\n",
       "      <td>Fast Food</td>\n",
       "      <td>20</td>\n",
       "    </tr>\n",
       "    <tr>\n",
       "      <th>3</th>\n",
       "      <td>11789</td>\n",
       "      <td>TRINITI ECHO PARK</td>\n",
       "      <td>1814 W SUNSET BLVD</td>\n",
       "      <td>False</td>\n",
       "      <td>Restaurant</td>\n",
       "      <td>22</td>\n",
       "    </tr>\n",
       "    <tr>\n",
       "      <th>4</th>\n",
       "      <td>11790</td>\n",
       "      <td>POLLEN</td>\n",
       "      <td>2100 ECHO PARK AVE</td>\n",
       "      <td>False</td>\n",
       "      <td>Restaurant</td>\n",
       "      <td>20</td>\n",
       "    </tr>\n",
       "  </tbody>\n",
       "</table>\n",
       "</div>"
      ],
      "text/plain": [
       "      id          object_name                    address  chain object_type  \\\n",
       "0  11786  HABITAT COFFEE SHOP     3708 N EAGLE ROCK BLVD  False        Cafe   \n",
       "1  11787             REILLY'S        100 WORLD WAY # 120  False  Restaurant   \n",
       "2  11788       STREET CHURROS  6801 HOLLYWOOD BLVD # 253  False   Fast Food   \n",
       "3  11789    TRINITI ECHO PARK         1814 W SUNSET BLVD  False  Restaurant   \n",
       "4  11790               POLLEN         2100 ECHO PARK AVE  False  Restaurant   \n",
       "\n",
       "   number  \n",
       "0      26  \n",
       "1       9  \n",
       "2      20  \n",
       "3      22  \n",
       "4      20  "
      ]
     },
     "metadata": {},
     "output_type": "display_data"
    }
   ],
   "source": [
    "display(data.head())"
   ]
  },
  {
   "cell_type": "markdown",
   "metadata": {
    "slideshow": {
     "slide_type": "slide"
    }
   },
   "source": [
    "### Data description\n",
    "rest_data table:\n",
    "- id\n",
    "- object_name — establishment name\n",
    "- address — address\n",
    "- chain — chain establishment (TRUE/FALSE)\n",
    "- object_type — establishment type\n",
    "- number — number of seats\n",
    "\n",
    "I show this so we understand what type of data we are working with"
   ]
  },
  {
   "cell_type": "code",
   "execution_count": 4,
   "metadata": {
    "slideshow": {
     "slide_type": "skip"
    }
   },
   "outputs": [
    {
     "name": "stdout",
     "output_type": "stream",
     "text": [
      "<class 'pandas.core.frame.DataFrame'>\n",
      "RangeIndex: 9651 entries, 0 to 9650\n",
      "Data columns (total 6 columns):\n",
      " #   Column       Non-Null Count  Dtype \n",
      "---  ------       --------------  ----- \n",
      " 0   id           9651 non-null   int64 \n",
      " 1   object_name  9651 non-null   object\n",
      " 2   address      9651 non-null   object\n",
      " 3   chain        9648 non-null   object\n",
      " 4   object_type  9651 non-null   object\n",
      " 5   number       9651 non-null   int64 \n",
      "dtypes: int64(2), object(4)\n",
      "memory usage: 452.5+ KB\n"
     ]
    }
   ],
   "source": [
    "#checking data types\n",
    "data.info()"
   ]
  },
  {
   "cell_type": "markdown",
   "metadata": {
    "slideshow": {
     "slide_type": "skip"
    }
   },
   "source": [
    "Everything seems to be in the correct formate. We could change 'id' to object as well since it is really more of a name and doesn't need to be an int.\n",
    "\n",
    "Also 'chain' is a category so we can change that formate as well"
   ]
  },
  {
   "cell_type": "code",
   "execution_count": 5,
   "metadata": {
    "slideshow": {
     "slide_type": "skip"
    }
   },
   "outputs": [],
   "source": [
    "data['id']=data['id'].astype(str)"
   ]
  },
  {
   "cell_type": "code",
   "execution_count": 6,
   "metadata": {
    "slideshow": {
     "slide_type": "skip"
    }
   },
   "outputs": [
    {
     "data": {
      "text/plain": [
       "id             0\n",
       "object_name    0\n",
       "address        0\n",
       "chain          3\n",
       "object_type    0\n",
       "number         0\n",
       "dtype: int64"
      ]
     },
     "execution_count": 6,
     "metadata": {},
     "output_type": "execute_result"
    }
   ],
   "source": [
    "#cheking for Null values\n",
    "data.isnull().sum()"
   ]
  },
  {
   "cell_type": "markdown",
   "metadata": {
    "slideshow": {
     "slide_type": "skip"
    }
   },
   "source": [
    "We have three Null values in the 'chain' column. We have a total of 9651 entries so we can probably just delete them without an issues. but lets take a closer look first."
   ]
  },
  {
   "cell_type": "code",
   "execution_count": 7,
   "metadata": {
    "slideshow": {
     "slide_type": "skip"
    }
   },
   "outputs": [
    {
     "data": {
      "text/html": [
       "<div>\n",
       "<style scoped>\n",
       "    .dataframe tbody tr th:only-of-type {\n",
       "        vertical-align: middle;\n",
       "    }\n",
       "\n",
       "    .dataframe tbody tr th {\n",
       "        vertical-align: top;\n",
       "    }\n",
       "\n",
       "    .dataframe thead th {\n",
       "        text-align: right;\n",
       "    }\n",
       "</style>\n",
       "<table border=\"1\" class=\"dataframe\">\n",
       "  <thead>\n",
       "    <tr style=\"text-align: right;\">\n",
       "      <th></th>\n",
       "      <th>id</th>\n",
       "      <th>object_name</th>\n",
       "      <th>address</th>\n",
       "      <th>chain</th>\n",
       "      <th>object_type</th>\n",
       "      <th>number</th>\n",
       "    </tr>\n",
       "  </thead>\n",
       "  <tbody>\n",
       "    <tr>\n",
       "      <th>7408</th>\n",
       "      <td>19194</td>\n",
       "      <td>TAQUERIA LOS 3 CARNALES</td>\n",
       "      <td>5000 E WHITTIER BLVD</td>\n",
       "      <td>NaN</td>\n",
       "      <td>Restaurant</td>\n",
       "      <td>14</td>\n",
       "    </tr>\n",
       "    <tr>\n",
       "      <th>7523</th>\n",
       "      <td>19309</td>\n",
       "      <td>JAMMIN JIMMY'S PIZZA</td>\n",
       "      <td>1641 FIRESTONE BLVD</td>\n",
       "      <td>NaN</td>\n",
       "      <td>Pizza</td>\n",
       "      <td>1</td>\n",
       "    </tr>\n",
       "    <tr>\n",
       "      <th>8648</th>\n",
       "      <td>20434</td>\n",
       "      <td>THE LEXINGTON THEATER</td>\n",
       "      <td>129 E 3RD ST</td>\n",
       "      <td>NaN</td>\n",
       "      <td>Restaurant</td>\n",
       "      <td>35</td>\n",
       "    </tr>\n",
       "  </tbody>\n",
       "</table>\n",
       "</div>"
      ],
      "text/plain": [
       "         id              object_name               address chain object_type  \\\n",
       "7408  19194  TAQUERIA LOS 3 CARNALES  5000 E WHITTIER BLVD   NaN  Restaurant   \n",
       "7523  19309     JAMMIN JIMMY'S PIZZA   1641 FIRESTONE BLVD   NaN       Pizza   \n",
       "8648  20434    THE LEXINGTON THEATER          129 E 3RD ST   NaN  Restaurant   \n",
       "\n",
       "      number  \n",
       "7408      14  \n",
       "7523       1  \n",
       "8648      35  "
      ]
     },
     "execution_count": 7,
     "metadata": {},
     "output_type": "execute_result"
    }
   ],
   "source": [
    "data[data['chain'].isnull()]"
   ]
  },
  {
   "cell_type": "markdown",
   "metadata": {
    "slideshow": {
     "slide_type": "skip"
    }
   },
   "source": [
    "Above are our restaurants with Null values. Lets take a look at each"
   ]
  },
  {
   "cell_type": "code",
   "execution_count": 8,
   "metadata": {
    "slideshow": {
     "slide_type": "skip"
    }
   },
   "outputs": [
    {
     "data": {
      "text/html": [
       "<div>\n",
       "<style scoped>\n",
       "    .dataframe tbody tr th:only-of-type {\n",
       "        vertical-align: middle;\n",
       "    }\n",
       "\n",
       "    .dataframe tbody tr th {\n",
       "        vertical-align: top;\n",
       "    }\n",
       "\n",
       "    .dataframe thead th {\n",
       "        text-align: right;\n",
       "    }\n",
       "</style>\n",
       "<table border=\"1\" class=\"dataframe\">\n",
       "  <thead>\n",
       "    <tr style=\"text-align: right;\">\n",
       "      <th></th>\n",
       "      <th>id</th>\n",
       "      <th>object_name</th>\n",
       "      <th>address</th>\n",
       "      <th>chain</th>\n",
       "      <th>object_type</th>\n",
       "      <th>number</th>\n",
       "    </tr>\n",
       "  </thead>\n",
       "  <tbody>\n",
       "    <tr>\n",
       "      <th>7408</th>\n",
       "      <td>19194</td>\n",
       "      <td>TAQUERIA LOS 3 CARNALES</td>\n",
       "      <td>5000 E WHITTIER BLVD</td>\n",
       "      <td>NaN</td>\n",
       "      <td>Restaurant</td>\n",
       "      <td>14</td>\n",
       "    </tr>\n",
       "  </tbody>\n",
       "</table>\n",
       "</div>"
      ],
      "text/plain": [
       "         id              object_name               address chain object_type  \\\n",
       "7408  19194  TAQUERIA LOS 3 CARNALES  5000 E WHITTIER BLVD   NaN  Restaurant   \n",
       "\n",
       "      number  \n",
       "7408      14  "
      ]
     },
     "execution_count": 8,
     "metadata": {},
     "output_type": "execute_result"
    }
   ],
   "source": [
    "data.query('object_name == \"TAQUERIA LOS 3 CARNALES\"')"
   ]
  },
  {
   "cell_type": "code",
   "execution_count": 9,
   "metadata": {
    "slideshow": {
     "slide_type": "skip"
    }
   },
   "outputs": [
    {
     "data": {
      "text/html": [
       "<div>\n",
       "<style scoped>\n",
       "    .dataframe tbody tr th:only-of-type {\n",
       "        vertical-align: middle;\n",
       "    }\n",
       "\n",
       "    .dataframe tbody tr th {\n",
       "        vertical-align: top;\n",
       "    }\n",
       "\n",
       "    .dataframe thead th {\n",
       "        text-align: right;\n",
       "    }\n",
       "</style>\n",
       "<table border=\"1\" class=\"dataframe\">\n",
       "  <thead>\n",
       "    <tr style=\"text-align: right;\">\n",
       "      <th></th>\n",
       "      <th>id</th>\n",
       "      <th>object_name</th>\n",
       "      <th>address</th>\n",
       "      <th>chain</th>\n",
       "      <th>object_type</th>\n",
       "      <th>number</th>\n",
       "    </tr>\n",
       "  </thead>\n",
       "  <tbody>\n",
       "    <tr>\n",
       "      <th>7523</th>\n",
       "      <td>19309</td>\n",
       "      <td>JAMMIN JIMMY'S PIZZA</td>\n",
       "      <td>1641 FIRESTONE BLVD</td>\n",
       "      <td>NaN</td>\n",
       "      <td>Pizza</td>\n",
       "      <td>1</td>\n",
       "    </tr>\n",
       "  </tbody>\n",
       "</table>\n",
       "</div>"
      ],
      "text/plain": [
       "         id           object_name              address chain object_type  \\\n",
       "7523  19309  JAMMIN JIMMY'S PIZZA  1641 FIRESTONE BLVD   NaN       Pizza   \n",
       "\n",
       "      number  \n",
       "7523       1  "
      ]
     },
     "execution_count": 9,
     "metadata": {},
     "output_type": "execute_result"
    }
   ],
   "source": [
    "data.query('object_name == \"JAMMIN JIMMY\\'S PIZZA\"')"
   ]
  },
  {
   "cell_type": "code",
   "execution_count": 10,
   "metadata": {
    "slideshow": {
     "slide_type": "skip"
    }
   },
   "outputs": [
    {
     "data": {
      "text/html": [
       "<div>\n",
       "<style scoped>\n",
       "    .dataframe tbody tr th:only-of-type {\n",
       "        vertical-align: middle;\n",
       "    }\n",
       "\n",
       "    .dataframe tbody tr th {\n",
       "        vertical-align: top;\n",
       "    }\n",
       "\n",
       "    .dataframe thead th {\n",
       "        text-align: right;\n",
       "    }\n",
       "</style>\n",
       "<table border=\"1\" class=\"dataframe\">\n",
       "  <thead>\n",
       "    <tr style=\"text-align: right;\">\n",
       "      <th></th>\n",
       "      <th>id</th>\n",
       "      <th>object_name</th>\n",
       "      <th>address</th>\n",
       "      <th>chain</th>\n",
       "      <th>object_type</th>\n",
       "      <th>number</th>\n",
       "    </tr>\n",
       "  </thead>\n",
       "  <tbody>\n",
       "    <tr>\n",
       "      <th>8648</th>\n",
       "      <td>20434</td>\n",
       "      <td>THE LEXINGTON THEATER</td>\n",
       "      <td>129 E 3RD ST</td>\n",
       "      <td>NaN</td>\n",
       "      <td>Restaurant</td>\n",
       "      <td>35</td>\n",
       "    </tr>\n",
       "  </tbody>\n",
       "</table>\n",
       "</div>"
      ],
      "text/plain": [
       "         id            object_name       address chain object_type  number\n",
       "8648  20434  THE LEXINGTON THEATER  129 E 3RD ST   NaN  Restaurant      35"
      ]
     },
     "execution_count": 10,
     "metadata": {},
     "output_type": "execute_result"
    }
   ],
   "source": [
    "data.query('object_name == \"THE LEXINGTON THEATER\"')"
   ]
  },
  {
   "cell_type": "markdown",
   "metadata": {
    "slideshow": {
     "slide_type": "skip"
    }
   },
   "source": [
    "Each one ran only one entry\n",
    "\n",
    "Now lets run one we know is a chain"
   ]
  },
  {
   "cell_type": "code",
   "execution_count": 11,
   "metadata": {
    "slideshow": {
     "slide_type": "skip"
    }
   },
   "outputs": [
    {
     "data": {
      "text/html": [
       "<div>\n",
       "<style scoped>\n",
       "    .dataframe tbody tr th:only-of-type {\n",
       "        vertical-align: middle;\n",
       "    }\n",
       "\n",
       "    .dataframe tbody tr th {\n",
       "        vertical-align: top;\n",
       "    }\n",
       "\n",
       "    .dataframe thead th {\n",
       "        text-align: right;\n",
       "    }\n",
       "</style>\n",
       "<table border=\"1\" class=\"dataframe\">\n",
       "  <thead>\n",
       "    <tr style=\"text-align: right;\">\n",
       "      <th></th>\n",
       "      <th>id</th>\n",
       "      <th>object_name</th>\n",
       "      <th>address</th>\n",
       "      <th>chain</th>\n",
       "      <th>object_type</th>\n",
       "      <th>number</th>\n",
       "    </tr>\n",
       "  </thead>\n",
       "  <tbody>\n",
       "    <tr>\n",
       "      <th>8</th>\n",
       "      <td>11794</td>\n",
       "      <td>ABC DONUTS</td>\n",
       "      <td>3027 N SAN FERNANDO RD UNIT 103</td>\n",
       "      <td>True</td>\n",
       "      <td>Fast Food</td>\n",
       "      <td>1</td>\n",
       "    </tr>\n",
       "    <tr>\n",
       "      <th>4497</th>\n",
       "      <td>16283</td>\n",
       "      <td>ABC DONUTS</td>\n",
       "      <td>4555 E 3RD ST # 1A</td>\n",
       "      <td>True</td>\n",
       "      <td>Fast Food</td>\n",
       "      <td>21</td>\n",
       "    </tr>\n",
       "  </tbody>\n",
       "</table>\n",
       "</div>"
      ],
      "text/plain": [
       "         id object_name                          address chain object_type  \\\n",
       "8     11794  ABC DONUTS  3027 N SAN FERNANDO RD UNIT 103  True   Fast Food   \n",
       "4497  16283  ABC DONUTS               4555 E 3RD ST # 1A  True   Fast Food   \n",
       "\n",
       "      number  \n",
       "8          1  \n",
       "4497      21  "
      ]
     },
     "execution_count": 11,
     "metadata": {},
     "output_type": "execute_result"
    }
   ],
   "source": [
    "data.query('object_name == \"ABC DONUTS\"')"
   ]
  },
  {
   "cell_type": "markdown",
   "metadata": {
    "slideshow": {
     "slide_type": "skip"
    }
   },
   "source": [
    "\"ABC DONUTS\" came up twice. Now we know that our three Nulls must be not be chains (False)"
   ]
  },
  {
   "cell_type": "code",
   "execution_count": 12,
   "metadata": {
    "slideshow": {
     "slide_type": "skip"
    }
   },
   "outputs": [
    {
     "data": {
      "text/plain": [
       "0    False\n",
       "dtype: object"
      ]
     },
     "execution_count": 12,
     "metadata": {},
     "output_type": "execute_result"
    }
   ],
   "source": [
    "data['chain'].mode()"
   ]
  },
  {
   "cell_type": "code",
   "execution_count": 13,
   "metadata": {
    "slideshow": {
     "slide_type": "skip"
    }
   },
   "outputs": [],
   "source": [
    "data['chain'] = data['chain'].fillna(data['chain'].mode()[0])"
   ]
  },
  {
   "cell_type": "code",
   "execution_count": 14,
   "metadata": {
    "slideshow": {
     "slide_type": "skip"
    }
   },
   "outputs": [
    {
     "data": {
      "text/plain": [
       "False    5975\n",
       "True     3676\n",
       "Name: chain, dtype: int64"
      ]
     },
     "execution_count": 14,
     "metadata": {},
     "output_type": "execute_result"
    }
   ],
   "source": [
    "data['chain'].value_counts()"
   ]
  },
  {
   "cell_type": "code",
   "execution_count": 15,
   "metadata": {},
   "outputs": [
    {
     "data": {
      "text/plain": [
       "0"
      ]
     },
     "execution_count": 15,
     "metadata": {},
     "output_type": "execute_result"
    }
   ],
   "source": [
    "data[['object_name', 'address']].duplicated().sum()"
   ]
  },
  {
   "cell_type": "markdown",
   "metadata": {
    "slideshow": {
     "slide_type": "skip"
    }
   },
   "source": [
    "Lets take a quick look at our 'object_type' column as well, just to makes sure we don't have any strange entries"
   ]
  },
  {
   "cell_type": "code",
   "execution_count": 16,
   "metadata": {
    "slideshow": {
     "slide_type": "skip"
    }
   },
   "outputs": [
    {
     "data": {
      "text/plain": [
       "Restaurant    7255\n",
       "Fast Food     1066\n",
       "Cafe           435\n",
       "Pizza          320\n",
       "Bar            292\n",
       "Bakery         283\n",
       "Name: object_type, dtype: int64"
      ]
     },
     "execution_count": 16,
     "metadata": {},
     "output_type": "execute_result"
    }
   ],
   "source": [
    "data['object_type'].value_counts()"
   ]
  },
  {
   "cell_type": "markdown",
   "metadata": {
    "slideshow": {
     "slide_type": "skip"
    }
   },
   "source": [
    "This looks good. Lets move on"
   ]
  },
  {
   "cell_type": "markdown",
   "metadata": {
    "slideshow": {
     "slide_type": "skip"
    }
   },
   "source": [
    "### Conclusion:"
   ]
  },
  {
   "cell_type": "markdown",
   "metadata": {
    "slideshow": {
     "slide_type": "skip"
    }
   },
   "source": [
    "Our Our data frame seems to be OK for now. \n",
    "- Formates are correct- We changed 'id' dtypes. Column titles all have the same formate as well\n",
    "- No duplicates\n",
    "- No Null's- we corrected the Null's by converting them to False "
   ]
  },
  {
   "cell_type": "markdown",
   "metadata": {
    "slideshow": {
     "slide_type": "skip"
    }
   },
   "source": [
    "# Step 2. Data analysis"
   ]
  },
  {
   "cell_type": "markdown",
   "metadata": {
    "slideshow": {
     "slide_type": "slide"
    }
   },
   "source": [
    "## Investigating the proportions of the various types of establishments. \n",
    "Pie plots are great ways to show proportions. As log as there aren't too many categories"
   ]
  },
  {
   "cell_type": "code",
   "execution_count": 17,
   "metadata": {
    "slideshow": {
     "slide_type": "skip"
    }
   },
   "outputs": [
    {
     "data": {
      "text/html": [
       "<div>\n",
       "<style scoped>\n",
       "    .dataframe tbody tr th:only-of-type {\n",
       "        vertical-align: middle;\n",
       "    }\n",
       "\n",
       "    .dataframe tbody tr th {\n",
       "        vertical-align: top;\n",
       "    }\n",
       "\n",
       "    .dataframe thead th {\n",
       "        text-align: right;\n",
       "    }\n",
       "</style>\n",
       "<table border=\"1\" class=\"dataframe\">\n",
       "  <thead>\n",
       "    <tr style=\"text-align: right;\">\n",
       "      <th></th>\n",
       "      <th>id</th>\n",
       "      <th>object_name</th>\n",
       "      <th>address</th>\n",
       "      <th>chain</th>\n",
       "      <th>number</th>\n",
       "    </tr>\n",
       "    <tr>\n",
       "      <th>object_type</th>\n",
       "      <th></th>\n",
       "      <th></th>\n",
       "      <th></th>\n",
       "      <th></th>\n",
       "      <th></th>\n",
       "    </tr>\n",
       "  </thead>\n",
       "  <tbody>\n",
       "    <tr>\n",
       "      <th>Bakery</th>\n",
       "      <td>283</td>\n",
       "      <td>283</td>\n",
       "      <td>283</td>\n",
       "      <td>283</td>\n",
       "      <td>283</td>\n",
       "    </tr>\n",
       "    <tr>\n",
       "      <th>Bar</th>\n",
       "      <td>292</td>\n",
       "      <td>292</td>\n",
       "      <td>292</td>\n",
       "      <td>292</td>\n",
       "      <td>292</td>\n",
       "    </tr>\n",
       "    <tr>\n",
       "      <th>Cafe</th>\n",
       "      <td>435</td>\n",
       "      <td>435</td>\n",
       "      <td>435</td>\n",
       "      <td>435</td>\n",
       "      <td>435</td>\n",
       "    </tr>\n",
       "    <tr>\n",
       "      <th>Fast Food</th>\n",
       "      <td>1066</td>\n",
       "      <td>1066</td>\n",
       "      <td>1066</td>\n",
       "      <td>1066</td>\n",
       "      <td>1066</td>\n",
       "    </tr>\n",
       "    <tr>\n",
       "      <th>Pizza</th>\n",
       "      <td>320</td>\n",
       "      <td>320</td>\n",
       "      <td>320</td>\n",
       "      <td>320</td>\n",
       "      <td>320</td>\n",
       "    </tr>\n",
       "    <tr>\n",
       "      <th>Restaurant</th>\n",
       "      <td>7255</td>\n",
       "      <td>7255</td>\n",
       "      <td>7255</td>\n",
       "      <td>7255</td>\n",
       "      <td>7255</td>\n",
       "    </tr>\n",
       "  </tbody>\n",
       "</table>\n",
       "</div>"
      ],
      "text/plain": [
       "               id  object_name  address  chain  number\n",
       "object_type                                           \n",
       "Bakery        283          283      283    283     283\n",
       "Bar           292          292      292    292     292\n",
       "Cafe          435          435      435    435     435\n",
       "Fast Food    1066         1066     1066   1066    1066\n",
       "Pizza         320          320      320    320     320\n",
       "Restaurant   7255         7255     7255   7255    7255"
      ]
     },
     "execution_count": 17,
     "metadata": {},
     "output_type": "execute_result"
    }
   ],
   "source": [
    "object_type_grouped=data.groupby(['object_type']).count()\n",
    "object_type_grouped"
   ]
  },
  {
   "cell_type": "code",
   "execution_count": 18,
   "metadata": {
    "slideshow": {
     "slide_type": "slide"
    }
   },
   "outputs": [
    {
     "data": {
      "image/png": "[encoded data removed]",
      "text/plain": [
       "<Figure size 1440x1080 with 1 Axes>"
      ]
     },
     "metadata": {},
     "output_type": "display_data"
    }
   ],
   "source": [
    "colors = ['#A1A1A1','#F0F7D4','#B2D732','#66B032', '#347B98', '#9BE1FD']\n",
    "object_type_grouped.plot(kind='pie', y='id',startangle=75, colors=colors, fontsize=10,\n",
    "figsize=(20,15), autopct='%1.1f%%')\n",
    "plt.title('Venue Type', fontsize=25)\n",
    "plt.xlabel('')\n",
    "plt.ylabel('')\n",
    "plt.legend(fontsize=20)\n",
    "# plt.savefig('/Users/AriAyares/Desktop/yan_charts/pie.png')\n",
    "plt.show()"
   ]
  },
  {
   "cell_type": "markdown",
   "metadata": {
    "slideshow": {
     "slide_type": "subslide"
    }
   },
   "source": [
    "### Conclusion: \n",
    "What have we learned?\n",
    "- Restaurant is by far the largest segment, with 75% of the market\n",
    "- Fast Food is #2 with 11%"
   ]
  },
  {
   "cell_type": "markdown",
   "metadata": {},
   "source": [
    "My question is, what makes something a restaurant and what makes a bakery? I'm guessing that there are many establishments that were added to the restaurant group that could have been added to one of the other groups. I think this is throwing our data off quite a bit.\n",
    "\n",
    "Lets check"
   ]
  },
  {
   "cell_type": "code",
   "execution_count": 19,
   "metadata": {},
   "outputs": [
    {
     "data": {
      "text/html": [
       "<div>\n",
       "<style scoped>\n",
       "    .dataframe tbody tr th:only-of-type {\n",
       "        vertical-align: middle;\n",
       "    }\n",
       "\n",
       "    .dataframe tbody tr th {\n",
       "        vertical-align: top;\n",
       "    }\n",
       "\n",
       "    .dataframe thead th {\n",
       "        text-align: right;\n",
       "    }\n",
       "</style>\n",
       "<table border=\"1\" class=\"dataframe\">\n",
       "  <thead>\n",
       "    <tr style=\"text-align: right;\">\n",
       "      <th></th>\n",
       "      <th>id</th>\n",
       "      <th>object_name</th>\n",
       "      <th>address</th>\n",
       "      <th>chain</th>\n",
       "      <th>object_type</th>\n",
       "      <th>number</th>\n",
       "      <th>Indexes</th>\n",
       "    </tr>\n",
       "  </thead>\n",
       "  <tbody>\n",
       "    <tr>\n",
       "      <th>0</th>\n",
       "      <td>11786</td>\n",
       "      <td>HABITAT COFFEE SHOP</td>\n",
       "      <td>3708 N EAGLE ROCK BLVD</td>\n",
       "      <td>False</td>\n",
       "      <td>Cafe</td>\n",
       "      <td>26</td>\n",
       "      <td>-1</td>\n",
       "    </tr>\n",
       "    <tr>\n",
       "      <th>1</th>\n",
       "      <td>11787</td>\n",
       "      <td>REILLY'S</td>\n",
       "      <td>100 WORLD WAY # 120</td>\n",
       "      <td>False</td>\n",
       "      <td>Restaurant</td>\n",
       "      <td>9</td>\n",
       "      <td>-1</td>\n",
       "    </tr>\n",
       "    <tr>\n",
       "      <th>2</th>\n",
       "      <td>11788</td>\n",
       "      <td>STREET CHURROS</td>\n",
       "      <td>6801 HOLLYWOOD BLVD # 253</td>\n",
       "      <td>False</td>\n",
       "      <td>Fast Food</td>\n",
       "      <td>20</td>\n",
       "      <td>-1</td>\n",
       "    </tr>\n",
       "    <tr>\n",
       "      <th>3</th>\n",
       "      <td>11789</td>\n",
       "      <td>TRINITI ECHO PARK</td>\n",
       "      <td>1814 W SUNSET BLVD</td>\n",
       "      <td>False</td>\n",
       "      <td>Restaurant</td>\n",
       "      <td>22</td>\n",
       "      <td>-1</td>\n",
       "    </tr>\n",
       "    <tr>\n",
       "      <th>4</th>\n",
       "      <td>11790</td>\n",
       "      <td>POLLEN</td>\n",
       "      <td>2100 ECHO PARK AVE</td>\n",
       "      <td>False</td>\n",
       "      <td>Restaurant</td>\n",
       "      <td>20</td>\n",
       "      <td>-1</td>\n",
       "    </tr>\n",
       "  </tbody>\n",
       "</table>\n",
       "</div>"
      ],
      "text/plain": [
       "      id          object_name                    address  chain object_type  \\\n",
       "0  11786  HABITAT COFFEE SHOP     3708 N EAGLE ROCK BLVD  False        Cafe   \n",
       "1  11787             REILLY'S        100 WORLD WAY # 120  False  Restaurant   \n",
       "2  11788       STREET CHURROS  6801 HOLLYWOOD BLVD # 253  False   Fast Food   \n",
       "3  11789    TRINITI ECHO PARK         1814 W SUNSET BLVD  False  Restaurant   \n",
       "4  11790               POLLEN         2100 ECHO PARK AVE  False  Restaurant   \n",
       "\n",
       "   number  Indexes  \n",
       "0      26       -1  \n",
       "1       9       -1  \n",
       "2      20       -1  \n",
       "3      22       -1  \n",
       "4      20       -1  "
      ]
     },
     "execution_count": 19,
     "metadata": {},
     "output_type": "execute_result"
    }
   ],
   "source": [
    "# substring to be searched\n",
    "sub ='BAKERY'\n",
    "  \n",
    "# creating and passsing series to new column\n",
    "data[\"Indexes\"]= data[\"object_name\"].str.find(sub)\n",
    "  \n",
    "# display\n",
    "data.head()"
   ]
  },
  {
   "cell_type": "code",
   "execution_count": 20,
   "metadata": {},
   "outputs": [
    {
     "data": {
      "text/html": [
       "<div>\n",
       "<style scoped>\n",
       "    .dataframe tbody tr th:only-of-type {\n",
       "        vertical-align: middle;\n",
       "    }\n",
       "\n",
       "    .dataframe tbody tr th {\n",
       "        vertical-align: top;\n",
       "    }\n",
       "\n",
       "    .dataframe thead th {\n",
       "        text-align: right;\n",
       "    }\n",
       "</style>\n",
       "<table border=\"1\" class=\"dataframe\">\n",
       "  <thead>\n",
       "    <tr style=\"text-align: right;\">\n",
       "      <th></th>\n",
       "      <th>id</th>\n",
       "      <th>object_name</th>\n",
       "      <th>address</th>\n",
       "      <th>chain</th>\n",
       "      <th>object_type</th>\n",
       "      <th>number</th>\n",
       "      <th>Indexes</th>\n",
       "    </tr>\n",
       "  </thead>\n",
       "  <tbody>\n",
       "    <tr>\n",
       "      <th>2586</th>\n",
       "      <td>14372</td>\n",
       "      <td>MON DELIZ COFFEE &amp; BAKERY</td>\n",
       "      <td>5357 SANTA MONICA BLVD</td>\n",
       "      <td>True</td>\n",
       "      <td>Cafe</td>\n",
       "      <td>42</td>\n",
       "      <td>19</td>\n",
       "    </tr>\n",
       "    <tr>\n",
       "      <th>4419</th>\n",
       "      <td>16205</td>\n",
       "      <td>IBARRA'S BEST BAKERY</td>\n",
       "      <td>2010 S MAPLE AVE</td>\n",
       "      <td>True</td>\n",
       "      <td>Bar</td>\n",
       "      <td>18</td>\n",
       "      <td>14</td>\n",
       "    </tr>\n",
       "    <tr>\n",
       "      <th>5276</th>\n",
       "      <td>17062</td>\n",
       "      <td>NAZOHS BAKERY &amp; COFFEE SHOP</td>\n",
       "      <td>810 W 8TH ST</td>\n",
       "      <td>True</td>\n",
       "      <td>Cafe</td>\n",
       "      <td>16</td>\n",
       "      <td>7</td>\n",
       "    </tr>\n",
       "    <tr>\n",
       "      <th>5321</th>\n",
       "      <td>17107</td>\n",
       "      <td>TOBARA COFFEE AND BAKERY</td>\n",
       "      <td>4630 WHITTIER BLVD</td>\n",
       "      <td>True</td>\n",
       "      <td>Cafe</td>\n",
       "      <td>19</td>\n",
       "      <td>18</td>\n",
       "    </tr>\n",
       "    <tr>\n",
       "      <th>5414</th>\n",
       "      <td>17200</td>\n",
       "      <td>JINGS DONUT &amp; BAKERY</td>\n",
       "      <td>5150 S HUNTINGTON DR S STE #101</td>\n",
       "      <td>True</td>\n",
       "      <td>Fast Food</td>\n",
       "      <td>23</td>\n",
       "      <td>14</td>\n",
       "    </tr>\n",
       "    <tr>\n",
       "      <th>6147</th>\n",
       "      <td>17933</td>\n",
       "      <td>LA BELLITA BAKERY Y PIZZA</td>\n",
       "      <td>2734 N EASTERN AVE</td>\n",
       "      <td>True</td>\n",
       "      <td>Pizza</td>\n",
       "      <td>12</td>\n",
       "      <td>11</td>\n",
       "    </tr>\n",
       "    <tr>\n",
       "      <th>6348</th>\n",
       "      <td>18134</td>\n",
       "      <td>JR BAKERY &amp;  PIZZA</td>\n",
       "      <td>2734 N EASTERN AVE</td>\n",
       "      <td>True</td>\n",
       "      <td>Pizza</td>\n",
       "      <td>1</td>\n",
       "      <td>3</td>\n",
       "    </tr>\n",
       "    <tr>\n",
       "      <th>7872</th>\n",
       "      <td>19658</td>\n",
       "      <td>DESANO PIZZA BAKERY</td>\n",
       "      <td>4959 SANTA MONICA BLVD</td>\n",
       "      <td>True</td>\n",
       "      <td>Pizza</td>\n",
       "      <td>130</td>\n",
       "      <td>13</td>\n",
       "    </tr>\n",
       "    <tr>\n",
       "      <th>7991</th>\n",
       "      <td>19777</td>\n",
       "      <td>FRANCES BAKERY AND COFFEE</td>\n",
       "      <td>404 E 2ND ST</td>\n",
       "      <td>True</td>\n",
       "      <td>Cafe</td>\n",
       "      <td>18</td>\n",
       "      <td>8</td>\n",
       "    </tr>\n",
       "    <tr>\n",
       "      <th>8518</th>\n",
       "      <td>20304</td>\n",
       "      <td>IBARRA'S BAKERY</td>\n",
       "      <td>8215 1/2 S BROADWAY AVE</td>\n",
       "      <td>True</td>\n",
       "      <td>Bar</td>\n",
       "      <td>18</td>\n",
       "      <td>9</td>\n",
       "    </tr>\n",
       "  </tbody>\n",
       "</table>\n",
       "</div>"
      ],
      "text/plain": [
       "         id                  object_name                          address  \\\n",
       "2586  14372    MON DELIZ COFFEE & BAKERY           5357 SANTA MONICA BLVD   \n",
       "4419  16205         IBARRA'S BEST BAKERY                 2010 S MAPLE AVE   \n",
       "5276  17062  NAZOHS BAKERY & COFFEE SHOP                     810 W 8TH ST   \n",
       "5321  17107     TOBARA COFFEE AND BAKERY               4630 WHITTIER BLVD   \n",
       "5414  17200         JINGS DONUT & BAKERY  5150 S HUNTINGTON DR S STE #101   \n",
       "6147  17933    LA BELLITA BAKERY Y PIZZA               2734 N EASTERN AVE   \n",
       "6348  18134           JR BAKERY &  PIZZA               2734 N EASTERN AVE   \n",
       "7872  19658          DESANO PIZZA BAKERY           4959 SANTA MONICA BLVD   \n",
       "7991  19777    FRANCES BAKERY AND COFFEE                     404 E 2ND ST   \n",
       "8518  20304              IBARRA'S BAKERY          8215 1/2 S BROADWAY AVE   \n",
       "\n",
       "      chain object_type  number  Indexes  \n",
       "2586   True        Cafe      42       19  \n",
       "4419   True         Bar      18       14  \n",
       "5276   True        Cafe      16        7  \n",
       "5321   True        Cafe      19       18  \n",
       "5414   True   Fast Food      23       14  \n",
       "6147   True       Pizza      12       11  \n",
       "6348   True       Pizza       1        3  \n",
       "7872   True       Pizza     130       13  \n",
       "7991   True        Cafe      18        8  \n",
       "8518   True         Bar      18        9  "
      ]
     },
     "execution_count": 20,
     "metadata": {},
     "output_type": "execute_result"
    }
   ],
   "source": [
    "object_type_query = data.query('Indexes > 0')\n",
    "object_type_query = object_type_query.query('object_type != \"Bakery\"')\n",
    "object_type_query"
   ]
  },
  {
   "cell_type": "markdown",
   "metadata": {},
   "source": [
    "We just found 10 Bakeries that were listed under other categories. Interestingly, none were listed under Restaurant as I had originally thought. "
   ]
  },
  {
   "cell_type": "markdown",
   "metadata": {
    "slideshow": {
     "slide_type": "slide"
    }
   },
   "source": [
    "## Investigating the proportions of chain and non-chain establishments. "
   ]
  },
  {
   "cell_type": "code",
   "execution_count": 21,
   "metadata": {},
   "outputs": [
    {
     "data": {
      "text/html": [
       "<div>\n",
       "<style scoped>\n",
       "    .dataframe tbody tr th:only-of-type {\n",
       "        vertical-align: middle;\n",
       "    }\n",
       "\n",
       "    .dataframe tbody tr th {\n",
       "        vertical-align: top;\n",
       "    }\n",
       "\n",
       "    .dataframe thead th {\n",
       "        text-align: right;\n",
       "    }\n",
       "</style>\n",
       "<table border=\"1\" class=\"dataframe\">\n",
       "  <thead>\n",
       "    <tr style=\"text-align: right;\">\n",
       "      <th></th>\n",
       "      <th>chain</th>\n",
       "      <th>id</th>\n",
       "      <th>object_name</th>\n",
       "      <th>address</th>\n",
       "      <th>object_type</th>\n",
       "      <th>number</th>\n",
       "      <th>Indexes</th>\n",
       "      <th>percent</th>\n",
       "    </tr>\n",
       "  </thead>\n",
       "  <tbody>\n",
       "    <tr>\n",
       "      <th>0</th>\n",
       "      <td>False</td>\n",
       "      <td>5975</td>\n",
       "      <td>5975</td>\n",
       "      <td>5975</td>\n",
       "      <td>5975</td>\n",
       "      <td>5975</td>\n",
       "      <td>5975</td>\n",
       "      <td>61.910683</td>\n",
       "    </tr>\n",
       "    <tr>\n",
       "      <th>1</th>\n",
       "      <td>True</td>\n",
       "      <td>3676</td>\n",
       "      <td>3676</td>\n",
       "      <td>3676</td>\n",
       "      <td>3676</td>\n",
       "      <td>3676</td>\n",
       "      <td>3676</td>\n",
       "      <td>38.089317</td>\n",
       "    </tr>\n",
       "  </tbody>\n",
       "</table>\n",
       "</div>"
      ],
      "text/plain": [
       "   chain    id  object_name  address  object_type  number  Indexes    percent\n",
       "0  False  5975         5975     5975         5975    5975     5975  61.910683\n",
       "1   True  3676         3676     3676         3676    3676     3676  38.089317"
      ]
     },
     "execution_count": 21,
     "metadata": {},
     "output_type": "execute_result"
    }
   ],
   "source": [
    "chain_grouped=data.groupby(['chain']).count().reset_index()\n",
    "chain_grouped['percent']= chain_grouped['id']/chain_grouped['id'].sum()*100\n",
    "chain_grouped['percent'].value_counts(normalize=True)\n",
    "chain_grouped"
   ]
  },
  {
   "cell_type": "code",
   "execution_count": 22,
   "metadata": {
    "slideshow": {
     "slide_type": "slide"
    }
   },
   "outputs": [
    {
     "data": {
      "image/png": "[encoded data removed]",
      "text/plain": [
       "<Figure size 1080x432 with 1 Axes>"
      ]
     },
     "metadata": {
      "needs_background": "light"
     },
     "output_type": "display_data"
    }
   ],
   "source": [
    "fig,ax=plt.subplots(figsize=(15,6))\n",
    "\n",
    "bar = sns.barplot(x='chain', y='percent', data=chain_grouped, \n",
    "                  color=sns.color_palette(\"husl\")[4]).set_title('proportions of chain and nonchain establishments', fontdict={'size':25})\n",
    "plt.xticks(rotation=45, fontsize=20)\n",
    "\n",
    "sns.despine()\n",
    "plt.xlabel(\"chain vs non-chains\", fontdict={'size':20})\n",
    "plt.ylabel(\"percentage\", fontdict={'size':20})\n",
    "ax.yaxis.set_major_formatter(mtick.PercentFormatter())\n",
    "plt.grid()\n",
    "# plt.savefig('/Users/AriAyares/Desktop/yan_charts/proportions of chain and nonchain establishments.png')\n",
    "plt.show()"
   ]
  },
  {
   "cell_type": "markdown",
   "metadata": {
    "slideshow": {
     "slide_type": "subslide"
    }
   },
   "source": [
    "### Conclusion: \n",
    "It seems the majority of food establishments are not chains. More than 60% are not chains"
   ]
  },
  {
   "cell_type": "markdown",
   "metadata": {
    "slideshow": {
     "slide_type": "slide"
    }
   },
   "source": [
    "## Which type of establishment is typically a chain?"
   ]
  },
  {
   "cell_type": "markdown",
   "metadata": {
    "slideshow": {
     "slide_type": "subslide"
    }
   },
   "source": [
    "I think we can probably guess that 'fast food' restaurants are the most likely to be chains but lets just plot a quick chart to show the percentages"
   ]
  },
  {
   "cell_type": "code",
   "execution_count": 23,
   "metadata": {},
   "outputs": [
    {
     "data": {
      "text/html": [
       "<div>\n",
       "<style scoped>\n",
       "    .dataframe tbody tr th:only-of-type {\n",
       "        vertical-align: middle;\n",
       "    }\n",
       "\n",
       "    .dataframe tbody tr th {\n",
       "        vertical-align: top;\n",
       "    }\n",
       "\n",
       "    .dataframe thead th {\n",
       "        text-align: right;\n",
       "    }\n",
       "</style>\n",
       "<table border=\"1\" class=\"dataframe\">\n",
       "  <thead>\n",
       "    <tr style=\"text-align: right;\">\n",
       "      <th></th>\n",
       "      <th>id</th>\n",
       "      <th>object_name</th>\n",
       "      <th>address</th>\n",
       "      <th>chain</th>\n",
       "      <th>object_type</th>\n",
       "      <th>number</th>\n",
       "      <th>Indexes</th>\n",
       "    </tr>\n",
       "  </thead>\n",
       "  <tbody>\n",
       "    <tr>\n",
       "      <th>0</th>\n",
       "      <td>11786</td>\n",
       "      <td>HABITAT COFFEE SHOP</td>\n",
       "      <td>3708 N EAGLE ROCK BLVD</td>\n",
       "      <td>False</td>\n",
       "      <td>Cafe</td>\n",
       "      <td>26</td>\n",
       "      <td>-1</td>\n",
       "    </tr>\n",
       "    <tr>\n",
       "      <th>1</th>\n",
       "      <td>11787</td>\n",
       "      <td>REILLY'S</td>\n",
       "      <td>100 WORLD WAY # 120</td>\n",
       "      <td>False</td>\n",
       "      <td>Restaurant</td>\n",
       "      <td>9</td>\n",
       "      <td>-1</td>\n",
       "    </tr>\n",
       "    <tr>\n",
       "      <th>2</th>\n",
       "      <td>11788</td>\n",
       "      <td>STREET CHURROS</td>\n",
       "      <td>6801 HOLLYWOOD BLVD # 253</td>\n",
       "      <td>False</td>\n",
       "      <td>Fast Food</td>\n",
       "      <td>20</td>\n",
       "      <td>-1</td>\n",
       "    </tr>\n",
       "    <tr>\n",
       "      <th>3</th>\n",
       "      <td>11789</td>\n",
       "      <td>TRINITI ECHO PARK</td>\n",
       "      <td>1814 W SUNSET BLVD</td>\n",
       "      <td>False</td>\n",
       "      <td>Restaurant</td>\n",
       "      <td>22</td>\n",
       "      <td>-1</td>\n",
       "    </tr>\n",
       "    <tr>\n",
       "      <th>4</th>\n",
       "      <td>11790</td>\n",
       "      <td>POLLEN</td>\n",
       "      <td>2100 ECHO PARK AVE</td>\n",
       "      <td>False</td>\n",
       "      <td>Restaurant</td>\n",
       "      <td>20</td>\n",
       "      <td>-1</td>\n",
       "    </tr>\n",
       "  </tbody>\n",
       "</table>\n",
       "</div>"
      ],
      "text/plain": [
       "      id          object_name                    address  chain object_type  \\\n",
       "0  11786  HABITAT COFFEE SHOP     3708 N EAGLE ROCK BLVD  False        Cafe   \n",
       "1  11787             REILLY'S        100 WORLD WAY # 120  False  Restaurant   \n",
       "2  11788       STREET CHURROS  6801 HOLLYWOOD BLVD # 253  False   Fast Food   \n",
       "3  11789    TRINITI ECHO PARK         1814 W SUNSET BLVD  False  Restaurant   \n",
       "4  11790               POLLEN         2100 ECHO PARK AVE  False  Restaurant   \n",
       "\n",
       "   number  Indexes  \n",
       "0      26       -1  \n",
       "1       9       -1  \n",
       "2      20       -1  \n",
       "3      22       -1  \n",
       "4      20       -1  "
      ]
     },
     "execution_count": 23,
     "metadata": {},
     "output_type": "execute_result"
    }
   ],
   "source": [
    "data.head()"
   ]
  },
  {
   "cell_type": "code",
   "execution_count": 24,
   "metadata": {},
   "outputs": [
    {
     "data": {
      "text/html": [
       "<div>\n",
       "<style scoped>\n",
       "    .dataframe tbody tr th:only-of-type {\n",
       "        vertical-align: middle;\n",
       "    }\n",
       "\n",
       "    .dataframe tbody tr th {\n",
       "        vertical-align: top;\n",
       "    }\n",
       "\n",
       "    .dataframe thead th {\n",
       "        text-align: right;\n",
       "    }\n",
       "</style>\n",
       "<table border=\"1\" class=\"dataframe\">\n",
       "  <thead>\n",
       "    <tr style=\"text-align: right;\">\n",
       "      <th></th>\n",
       "      <th>id</th>\n",
       "      <th>object_name</th>\n",
       "      <th>address</th>\n",
       "      <th>chain</th>\n",
       "      <th>object_type</th>\n",
       "      <th>number</th>\n",
       "      <th>Indexes</th>\n",
       "    </tr>\n",
       "  </thead>\n",
       "  <tbody>\n",
       "    <tr>\n",
       "      <th>0</th>\n",
       "      <td>11786</td>\n",
       "      <td>HABITAT COFFEE SHOP</td>\n",
       "      <td>3708 N EAGLE ROCK BLVD</td>\n",
       "      <td>0</td>\n",
       "      <td>Cafe</td>\n",
       "      <td>26</td>\n",
       "      <td>-1</td>\n",
       "    </tr>\n",
       "    <tr>\n",
       "      <th>1</th>\n",
       "      <td>11787</td>\n",
       "      <td>REILLY'S</td>\n",
       "      <td>100 WORLD WAY # 120</td>\n",
       "      <td>0</td>\n",
       "      <td>Restaurant</td>\n",
       "      <td>9</td>\n",
       "      <td>-1</td>\n",
       "    </tr>\n",
       "    <tr>\n",
       "      <th>2</th>\n",
       "      <td>11788</td>\n",
       "      <td>STREET CHURROS</td>\n",
       "      <td>6801 HOLLYWOOD BLVD # 253</td>\n",
       "      <td>0</td>\n",
       "      <td>Fast Food</td>\n",
       "      <td>20</td>\n",
       "      <td>-1</td>\n",
       "    </tr>\n",
       "    <tr>\n",
       "      <th>3</th>\n",
       "      <td>11789</td>\n",
       "      <td>TRINITI ECHO PARK</td>\n",
       "      <td>1814 W SUNSET BLVD</td>\n",
       "      <td>0</td>\n",
       "      <td>Restaurant</td>\n",
       "      <td>22</td>\n",
       "      <td>-1</td>\n",
       "    </tr>\n",
       "    <tr>\n",
       "      <th>4</th>\n",
       "      <td>11790</td>\n",
       "      <td>POLLEN</td>\n",
       "      <td>2100 ECHO PARK AVE</td>\n",
       "      <td>0</td>\n",
       "      <td>Restaurant</td>\n",
       "      <td>20</td>\n",
       "      <td>-1</td>\n",
       "    </tr>\n",
       "  </tbody>\n",
       "</table>\n",
       "</div>"
      ],
      "text/plain": [
       "      id          object_name                    address  chain object_type  \\\n",
       "0  11786  HABITAT COFFEE SHOP     3708 N EAGLE ROCK BLVD      0        Cafe   \n",
       "1  11787             REILLY'S        100 WORLD WAY # 120      0  Restaurant   \n",
       "2  11788       STREET CHURROS  6801 HOLLYWOOD BLVD # 253      0   Fast Food   \n",
       "3  11789    TRINITI ECHO PARK         1814 W SUNSET BLVD      0  Restaurant   \n",
       "4  11790               POLLEN         2100 ECHO PARK AVE      0  Restaurant   \n",
       "\n",
       "   number  Indexes  \n",
       "0      26       -1  \n",
       "1       9       -1  \n",
       "2      20       -1  \n",
       "3      22       -1  \n",
       "4      20       -1  "
      ]
     },
     "execution_count": 24,
     "metadata": {},
     "output_type": "execute_result"
    }
   ],
   "source": [
    "data['chain']=(data['chain']).astype(int)\n",
    "data.head()"
   ]
  },
  {
   "cell_type": "code",
   "execution_count": 25,
   "metadata": {},
   "outputs": [],
   "source": [
    "chain_pivot = data.pivot_table(index='object_type', columns='chain', values='id', aggfunc='count').reset_index()\n",
    "chain_pivot = chain_pivot.fillna(0)\n",
    "chain_pivot['is_chain_percent']= chain_pivot[1]/(chain_pivot[0]+chain_pivot[1])*100\n",
    "chain_pivot['not_chain_percent']= chain_pivot[0]/(chain_pivot[0]+chain_pivot[1])*100\n",
    "chain_pivot= chain_pivot.sort_values(by = 'is_chain_percent')"
   ]
  },
  {
   "cell_type": "code",
   "execution_count": 26,
   "metadata": {
    "slideshow": {
     "slide_type": "subslide"
    }
   },
   "outputs": [
    {
     "data": {
      "image/png": "[encoded data removed]",
      "text/plain": [
       "<Figure size 1080x432 with 1 Axes>"
      ]
     },
     "metadata": {
      "needs_background": "light"
     },
     "output_type": "display_data"
    }
   ],
   "source": [
    "fig,ax=plt.subplots(figsize=(15,6))\n",
    "\n",
    "bar = sns.barplot(x='object_type', y='is_chain_percent', data=chain_pivot, \n",
    "                  color=sns.color_palette(\"husl\")[4]).set_title('Which type of establishment is typically a chain', fontdict={'size':20})\n",
    "plt.xticks(size= 15)\n",
    "\n",
    "sns.despine()\n",
    "plt.xlabel(\"establishment type\", fontdict={'size':20})\n",
    "plt.ylabel(\"percentage\", fontdict={'size':20})\n",
    "ax.yaxis.set_major_formatter(mtick.PercentFormatter())\n",
    "plt.grid()\n",
    "# plt.savefig('/Users/AriAyares/Desktop/yan_charts/Which type of establishment is typically a chain.png')\n",
    "plt.show()\n"
   ]
  },
  {
   "cell_type": "markdown",
   "metadata": {
    "slideshow": {
     "slide_type": "subslide"
    }
   },
   "source": [
    "### Conclusion:\n",
    "\n",
    "In our data frame, 100% of Bakeries are chains. To me that doesn't seem to coincide with reality. There are many chain bakeries in LA, Dunkin Donuts is one that comes to mind,  but there are many boutique bakeries as well. Previously we attempted to show that Bakeries could be miss categorized and therefore would be throwing off our data. We did find 10 bakeries that were listed in other categories but most would fit other categories as well. Anyway, all 10 were listed as chains as well so that wouldn't correct anything here."
   ]
  },
  {
   "cell_type": "markdown",
   "metadata": {
    "slideshow": {
     "slide_type": "slide"
    }
   },
   "source": [
    "## What characterizes chains: many establishments with a small number of seats or a few establishments with a lot of seats?"
   ]
  },
  {
   "cell_type": "code",
   "execution_count": 27,
   "metadata": {
    "slideshow": {
     "slide_type": "subslide"
    }
   },
   "outputs": [
    {
     "data": {
      "image/png": "[encoded data removed]",
      "text/plain": [
       "<Figure size 1080x360 with 1 Axes>"
      ]
     },
     "metadata": {
      "needs_background": "light"
     },
     "output_type": "display_data"
    },
    {
     "data": {
      "image/png": "[encoded data removed]",
      "text/plain": [
       "<Figure size 1080x360 with 1 Axes>"
      ]
     },
     "metadata": {
      "needs_background": "light"
     },
     "output_type": "display_data"
    }
   ],
   "source": [
    "fig, axes = plt.subplots(figsize=(15,5))\n",
    "sns.violinplot(x=\"object_type\", y=\"number\", data=data, palette='rainbow').set_title('seating by establishment', fontsize=25, color= 'teal')\n",
    "plt.xticks(size= 12)\n",
    "plt.xlabel(\"establishment type\", fontdict={'size':20})\n",
    "plt.ylabel(\"Number of Seats\", fontdict={'size':20})\n",
    "\n",
    "plt.grid()\n",
    "# plt.savefig('/Users/AriAyares/Desktop/yan_charts/seating by establishment0.png')\n",
    "plt.show()\n",
    "\n",
    "fig, axes = plt.subplots(figsize=(15,5))\n",
    "sns.stripplot(x=\"object_type\", y=\"number\", data=data, palette='rainbow').set_title('seating by establishment', fontsize=25, color= 'teal')\n",
    "plt.xticks(size= 12)\n",
    "plt.xlabel(\"establishment type\", fontdict={'size':20})\n",
    "plt.ylabel(\"Number of Seats\", fontdict={'size':20})\n",
    "\n",
    "plt.grid()\n",
    "# plt.savefig('/Users/AriAyares/Desktop/yan_charts/seating by establishment.png')\n",
    "plt.show()\n"
   ]
  },
  {
   "cell_type": "markdown",
   "metadata": {
    "slideshow": {
     "slide_type": "subslide"
    }
   },
   "source": [
    "In both of the above charts we can see that most types of establishments don't typically have more than 50 seats per establishment. \n",
    "- We can see in the **violin chart** on top shows us that bakeries are much more similar to one another in regard to how many seats they provide. Where as Bars don't seem to follow as much of a \"rule\". Though most bars are within the 50 seat range, there isn't the same type of similarity as is shown with Bakeries.\n",
    "- The **strip plot** is a bit less informative in my opinion. It also shows us that 0-50 seats seem to be the norm but it doesn't show us the spread very well. We know that there are many more restaurants than bars. bakeries, etc.  \n",
    "\n",
    "Either way, I don't thing we can accurately answer our question yet.\n",
    "\n",
    "Lets plot some more charts"
   ]
  },
  {
   "cell_type": "code",
   "execution_count": 28,
   "metadata": {},
   "outputs": [],
   "source": [
    "data_chain = data.query('chain == 1')\n",
    "data_not_chain = data.query('chain == 0')\n",
    "data_chain_ave_seats = data_chain.groupby('object_type').number.mean().sort_values()\n",
    "data_not_chain_ave_seats = data_not_chain.groupby('object_type').number.mean().sort_values()"
   ]
  },
  {
   "cell_type": "code",
   "execution_count": 29,
   "metadata": {
    "slideshow": {
     "slide_type": "slide"
    }
   },
   "outputs": [
    {
     "data": {
      "image/png": "[encoded data removed]",
      "text/plain": [
       "<Figure size 1224x576 with 1 Axes>"
      ]
     },
     "metadata": {
      "needs_background": "light"
     },
     "output_type": "display_data"
    },
    {
     "data": {
      "image/png": "[encoded data removed]",
      "text/plain": [
       "<Figure size 1224x576 with 1 Axes>"
      ]
     },
     "metadata": {
      "needs_background": "light"
     },
     "output_type": "display_data"
    }
   ],
   "source": [
    "fig, axes = plt.subplots(figsize=(17,8))\n",
    "ax1 = sns.boxplot(x='object_type', y='number', hue='chain', data=data).set_title('Chain Seating VS. Non Chain Seating', fontdict={'size':25}, color='teal')\n",
    "plt.xticks(size= 20)\n",
    "sns.despine()\n",
    "plt.xlabel(\"establishment type\", fontdict={'size':20})\n",
    "plt.ylabel(\"number of seats\", fontdict={'size':20})\n",
    "plt.legend(fontsize=20)\n",
    "#plt.legend((0, 1), ('Chain_Seats','Not_Chain_Seats'), fontsize=20)\n",
    "plt.grid()\n",
    "# plt.savefig('/Users/AriAyares/Desktop/yan_charts/Chain Seating VS. Non Chain Seating0.png')\n",
    "plt.show()\n",
    "\n",
    "Chain_Seats = data_chain_ave_seats\n",
    "Not_Chain_Seats = data_not_chain_ave_seats\n",
    "index = ['Cafe', 'Restaurant', 'Fast Food', 'Bakery', 'Bar', 'Pizza']\n",
    "df0 = pd.DataFrame({'Not_Chain_Seats': Not_Chain_Seats, 'Chain_Seats': Chain_Seats}, index=index)\n",
    "ax0 = df0.plot.bar(rot=0, figsize=(17,8), fontsize=(20))\n",
    "ax0.set_title('Chain Seating VS. Non Chain Seating', fontsize=25, color= 'teal')\n",
    "ax0.set_ylabel(\"Ave. Seats\", fontsize=20)\n",
    "ax0.set_xlabel(\"Type of establishment\", fontsize=20)\n",
    "plt.legend(fontsize=20)\n",
    "plt.grid()\n",
    "# plt.savefig('/Users/AriAyares/Desktop/yan_charts/Chain Seating VS. Non Chain Seating.png')\n",
    "plt.show()\n"
   ]
  },
  {
   "cell_type": "markdown",
   "metadata": {
    "slideshow": {
     "slide_type": "subslide"
    }
   },
   "source": [
    "Now I think we can better answer our question.\n",
    "\n",
    "The above charts, box chart and bar char, shows us the average seat count by establishment, chain vs. non-chain. Even without removing outliers, we can see that the average establishment has around 50 seats or less. This is something we learned from the violin and strip plots from above. Remember, 100% of our bakeries are chains in this data frame. \n",
    "\n",
    "### Conclusion:\n",
    "\n",
    "We learned from our previous chart ['Which type of establishment is typically a chain'](#section_1) that bakeries, cafes, and fast food are our most likely establishments to be chains. Bakeries, cafes, and fast food chains do have more seats than their non-chain counterparts but when we look at Pizza, Bar, and Restaurant establishments we see the opposite is true.  Therefore, I don't see this as a trend per se. "
   ]
  },
  {
   "cell_type": "markdown",
   "metadata": {
    "slideshow": {
     "slide_type": "slide"
    }
   },
   "source": [
    "## Determine the average number of seats for each type of restaurant. On average, which type of restaurant has the greatest number of seats? "
   ]
  },
  {
   "cell_type": "code",
   "execution_count": 30,
   "metadata": {},
   "outputs": [
    {
     "data": {
      "text/plain": [
       "object_type\n",
       "Bakery        21.773852\n",
       "Cafe          25.000000\n",
       "Pizza         28.459375\n",
       "Fast Food     31.837711\n",
       "Bar           44.767123\n",
       "Restaurant    48.042316\n",
       "Name: number, dtype: float64"
      ]
     },
     "execution_count": 30,
     "metadata": {},
     "output_type": "execute_result"
    }
   ],
   "source": [
    "ave_seats_extablishment = data.groupby('object_type').number.mean().sort_values()\n",
    "ave_seats_extablishment"
   ]
  },
  {
   "cell_type": "code",
   "execution_count": 31,
   "metadata": {
    "slideshow": {
     "slide_type": "subslide"
    }
   },
   "outputs": [
    {
     "data": {
      "image/png": "[encoded data removed]",
      "text/plain": [
       "<Figure size 1224x576 with 1 Axes>"
      ]
     },
     "metadata": {
      "needs_background": "light"
     },
     "output_type": "display_data"
    }
   ],
   "source": [
    "fig, axes = plt.subplots(figsize=(17,8))\n",
    "sns.barplot(x=\"number\", y=\"object_type\", data=data, palette='rainbow', ci=None).set_title('Ave number of seats by eshablishment', fontsize=25, color= 'teal')\n",
    "plt.yticks(rotation=45, size= 18)\n",
    "plt.xticks(rotation=45, size= 18)\n",
    "plt.ylabel(\"establishment type\", fontdict={'size':20})\n",
    "plt.xlabel(\"Number of Seats\", fontdict={'size':20})\n",
    "\n",
    "plt.grid()\n",
    "# plt.savefig('/Users/AriAyares/Desktop/yan_charts/Ave number of seats by eshablishment.png')\n",
    "plt.show()\n"
   ]
  },
  {
   "cell_type": "markdown",
   "metadata": {
    "slideshow": {
     "slide_type": "subslide"
    }
   },
   "source": [
    "### Conclusion:\n",
    "\n",
    "Average number of seats for each type of restaurant.\n",
    "- Bakery        22\n",
    "- Cafe          25\n",
    "- Pizza         28\n",
    "- Fast Food     32\n",
    "- Bar           45\n",
    "- Restaurant    48"
   ]
  },
  {
   "cell_type": "markdown",
   "metadata": {},
   "source": [
    "## Put the data on street names from the address column in a separate column."
   ]
  },
  {
   "cell_type": "code",
   "execution_count": 32,
   "metadata": {},
   "outputs": [
    {
     "data": {
      "text/html": [
       "<div>\n",
       "<style scoped>\n",
       "    .dataframe tbody tr th:only-of-type {\n",
       "        vertical-align: middle;\n",
       "    }\n",
       "\n",
       "    .dataframe tbody tr th {\n",
       "        vertical-align: top;\n",
       "    }\n",
       "\n",
       "    .dataframe thead th {\n",
       "        text-align: right;\n",
       "    }\n",
       "</style>\n",
       "<table border=\"1\" class=\"dataframe\">\n",
       "  <thead>\n",
       "    <tr style=\"text-align: right;\">\n",
       "      <th></th>\n",
       "      <th>id</th>\n",
       "      <th>object_name</th>\n",
       "      <th>address</th>\n",
       "      <th>chain</th>\n",
       "      <th>object_type</th>\n",
       "      <th>number</th>\n",
       "      <th>Indexes</th>\n",
       "    </tr>\n",
       "  </thead>\n",
       "  <tbody>\n",
       "    <tr>\n",
       "      <th>0</th>\n",
       "      <td>11786</td>\n",
       "      <td>HABITAT COFFEE SHOP</td>\n",
       "      <td>3708 N EAGLE ROCK BLVD</td>\n",
       "      <td>0</td>\n",
       "      <td>Cafe</td>\n",
       "      <td>26</td>\n",
       "      <td>-1</td>\n",
       "    </tr>\n",
       "    <tr>\n",
       "      <th>1</th>\n",
       "      <td>11787</td>\n",
       "      <td>REILLY'S</td>\n",
       "      <td>100 WORLD WAY # 120</td>\n",
       "      <td>0</td>\n",
       "      <td>Restaurant</td>\n",
       "      <td>9</td>\n",
       "      <td>-1</td>\n",
       "    </tr>\n",
       "    <tr>\n",
       "      <th>2</th>\n",
       "      <td>11788</td>\n",
       "      <td>STREET CHURROS</td>\n",
       "      <td>6801 HOLLYWOOD BLVD # 253</td>\n",
       "      <td>0</td>\n",
       "      <td>Fast Food</td>\n",
       "      <td>20</td>\n",
       "      <td>-1</td>\n",
       "    </tr>\n",
       "    <tr>\n",
       "      <th>3</th>\n",
       "      <td>11789</td>\n",
       "      <td>TRINITI ECHO PARK</td>\n",
       "      <td>1814 W SUNSET BLVD</td>\n",
       "      <td>0</td>\n",
       "      <td>Restaurant</td>\n",
       "      <td>22</td>\n",
       "      <td>-1</td>\n",
       "    </tr>\n",
       "    <tr>\n",
       "      <th>4</th>\n",
       "      <td>11790</td>\n",
       "      <td>POLLEN</td>\n",
       "      <td>2100 ECHO PARK AVE</td>\n",
       "      <td>0</td>\n",
       "      <td>Restaurant</td>\n",
       "      <td>20</td>\n",
       "      <td>-1</td>\n",
       "    </tr>\n",
       "  </tbody>\n",
       "</table>\n",
       "</div>"
      ],
      "text/plain": [
       "      id          object_name                    address  chain object_type  \\\n",
       "0  11786  HABITAT COFFEE SHOP     3708 N EAGLE ROCK BLVD      0        Cafe   \n",
       "1  11787             REILLY'S        100 WORLD WAY # 120      0  Restaurant   \n",
       "2  11788       STREET CHURROS  6801 HOLLYWOOD BLVD # 253      0   Fast Food   \n",
       "3  11789    TRINITI ECHO PARK         1814 W SUNSET BLVD      0  Restaurant   \n",
       "4  11790               POLLEN         2100 ECHO PARK AVE      0  Restaurant   \n",
       "\n",
       "   number  Indexes  \n",
       "0      26       -1  \n",
       "1       9       -1  \n",
       "2      20       -1  \n",
       "3      22       -1  \n",
       "4      20       -1  "
      ]
     },
     "execution_count": 32,
     "metadata": {},
     "output_type": "execute_result"
    }
   ],
   "source": [
    "data.head()"
   ]
  },
  {
   "cell_type": "code",
   "execution_count": 33,
   "metadata": {},
   "outputs": [
    {
     "name": "stdout",
     "output_type": "stream",
     "text": [
      "N EAGLE ROCK BLVD \n"
     ]
    }
   ],
   "source": [
    "word_list = re.findall(\"[0-9]*[A-Z']+[0-9]*\\.?\",data.address[0])\n",
    "adress = ''\n",
    "for word in word_list:\n",
    "    adress += word + ' '\n",
    "print(adress)"
   ]
  },
  {
   "cell_type": "code",
   "execution_count": 34,
   "metadata": {},
   "outputs": [
    {
     "data": {
      "text/html": [
       "<div>\n",
       "<style scoped>\n",
       "    .dataframe tbody tr th:only-of-type {\n",
       "        vertical-align: middle;\n",
       "    }\n",
       "\n",
       "    .dataframe tbody tr th {\n",
       "        vertical-align: top;\n",
       "    }\n",
       "\n",
       "    .dataframe thead th {\n",
       "        text-align: right;\n",
       "    }\n",
       "</style>\n",
       "<table border=\"1\" class=\"dataframe\">\n",
       "  <thead>\n",
       "    <tr style=\"text-align: right;\">\n",
       "      <th></th>\n",
       "      <th>id</th>\n",
       "      <th>object_name</th>\n",
       "      <th>address</th>\n",
       "      <th>chain</th>\n",
       "      <th>object_type</th>\n",
       "      <th>number</th>\n",
       "      <th>Indexes</th>\n",
       "      <th>street_name</th>\n",
       "    </tr>\n",
       "  </thead>\n",
       "  <tbody>\n",
       "    <tr>\n",
       "      <th>0</th>\n",
       "      <td>11786</td>\n",
       "      <td>HABITAT COFFEE SHOP</td>\n",
       "      <td>3708 N EAGLE ROCK BLVD</td>\n",
       "      <td>0</td>\n",
       "      <td>Cafe</td>\n",
       "      <td>26</td>\n",
       "      <td>-1</td>\n",
       "      <td>N EAGLE ROCK BLVD</td>\n",
       "    </tr>\n",
       "    <tr>\n",
       "      <th>1</th>\n",
       "      <td>11787</td>\n",
       "      <td>REILLY'S</td>\n",
       "      <td>100 WORLD WAY # 120</td>\n",
       "      <td>0</td>\n",
       "      <td>Restaurant</td>\n",
       "      <td>9</td>\n",
       "      <td>-1</td>\n",
       "      <td>WORLD WAY</td>\n",
       "    </tr>\n",
       "    <tr>\n",
       "      <th>2</th>\n",
       "      <td>11788</td>\n",
       "      <td>STREET CHURROS</td>\n",
       "      <td>6801 HOLLYWOOD BLVD # 253</td>\n",
       "      <td>0</td>\n",
       "      <td>Fast Food</td>\n",
       "      <td>20</td>\n",
       "      <td>-1</td>\n",
       "      <td>HOLLYWOOD BLVD</td>\n",
       "    </tr>\n",
       "    <tr>\n",
       "      <th>3</th>\n",
       "      <td>11789</td>\n",
       "      <td>TRINITI ECHO PARK</td>\n",
       "      <td>1814 W SUNSET BLVD</td>\n",
       "      <td>0</td>\n",
       "      <td>Restaurant</td>\n",
       "      <td>22</td>\n",
       "      <td>-1</td>\n",
       "      <td>W SUNSET BLVD</td>\n",
       "    </tr>\n",
       "    <tr>\n",
       "      <th>4</th>\n",
       "      <td>11790</td>\n",
       "      <td>POLLEN</td>\n",
       "      <td>2100 ECHO PARK AVE</td>\n",
       "      <td>0</td>\n",
       "      <td>Restaurant</td>\n",
       "      <td>20</td>\n",
       "      <td>-1</td>\n",
       "      <td>ECHO PARK AVE</td>\n",
       "    </tr>\n",
       "  </tbody>\n",
       "</table>\n",
       "</div>"
      ],
      "text/plain": [
       "      id          object_name                    address  chain object_type  \\\n",
       "0  11786  HABITAT COFFEE SHOP     3708 N EAGLE ROCK BLVD      0        Cafe   \n",
       "1  11787             REILLY'S        100 WORLD WAY # 120      0  Restaurant   \n",
       "2  11788       STREET CHURROS  6801 HOLLYWOOD BLVD # 253      0   Fast Food   \n",
       "3  11789    TRINITI ECHO PARK         1814 W SUNSET BLVD      0  Restaurant   \n",
       "4  11790               POLLEN         2100 ECHO PARK AVE      0  Restaurant   \n",
       "\n",
       "   number  Indexes         street_name  \n",
       "0      26       -1  N EAGLE ROCK BLVD   \n",
       "1       9       -1          WORLD WAY   \n",
       "2      20       -1     HOLLYWOOD BLVD   \n",
       "3      22       -1      W SUNSET BLVD   \n",
       "4      20       -1      ECHO PARK AVE   "
      ]
     },
     "execution_count": 34,
     "metadata": {},
     "output_type": "execute_result"
    }
   ],
   "source": [
    "def find_street(name):\n",
    "    word_list = re.findall(\"[0-9]*[A-Z']+[0-9]*\\.?\",name)\n",
    "    adress = ''\n",
    "    for word in word_list:\n",
    "        adress += word + ' '\n",
    "    return adress\n",
    "data['street_name'] = data.address.apply(find_street)\n",
    "data.head()"
   ]
  },
  {
   "cell_type": "markdown",
   "metadata": {
    "slideshow": {
     "slide_type": "slide"
    }
   },
   "source": [
    "## The top ten streets by number of restaurants."
   ]
  },
  {
   "cell_type": "code",
   "execution_count": 35,
   "metadata": {
    "slideshow": {
     "slide_type": "-"
    }
   },
   "outputs": [
    {
     "data": {
      "text/html": [
       "<div>\n",
       "<style scoped>\n",
       "    .dataframe tbody tr th:only-of-type {\n",
       "        vertical-align: middle;\n",
       "    }\n",
       "\n",
       "    .dataframe tbody tr th {\n",
       "        vertical-align: top;\n",
       "    }\n",
       "\n",
       "    .dataframe thead th {\n",
       "        text-align: right;\n",
       "    }\n",
       "</style>\n",
       "<table border=\"1\" class=\"dataframe\">\n",
       "  <thead>\n",
       "    <tr style=\"text-align: right;\">\n",
       "      <th></th>\n",
       "      <th>street_name</th>\n",
       "      <th>id</th>\n",
       "    </tr>\n",
       "  </thead>\n",
       "  <tbody>\n",
       "    <tr>\n",
       "      <th>0</th>\n",
       "      <td>W SUNSET BLVD</td>\n",
       "      <td>314</td>\n",
       "    </tr>\n",
       "    <tr>\n",
       "      <th>1</th>\n",
       "      <td>W PICO BLVD</td>\n",
       "      <td>307</td>\n",
       "    </tr>\n",
       "    <tr>\n",
       "      <th>2</th>\n",
       "      <td>WILSHIRE BLVD</td>\n",
       "      <td>226</td>\n",
       "    </tr>\n",
       "    <tr>\n",
       "      <th>3</th>\n",
       "      <td>HOLLYWOOD BLVD</td>\n",
       "      <td>197</td>\n",
       "    </tr>\n",
       "    <tr>\n",
       "      <th>4</th>\n",
       "      <td>S WESTERN AVE</td>\n",
       "      <td>193</td>\n",
       "    </tr>\n",
       "    <tr>\n",
       "      <th>5</th>\n",
       "      <td>SANTA MONICA BLVD</td>\n",
       "      <td>192</td>\n",
       "    </tr>\n",
       "    <tr>\n",
       "      <th>6</th>\n",
       "      <td>W 3RD ST</td>\n",
       "      <td>183</td>\n",
       "    </tr>\n",
       "    <tr>\n",
       "      <th>7</th>\n",
       "      <td>S FIGUEROA ST</td>\n",
       "      <td>174</td>\n",
       "    </tr>\n",
       "    <tr>\n",
       "      <th>8</th>\n",
       "      <td>S VERMONT AVE</td>\n",
       "      <td>172</td>\n",
       "    </tr>\n",
       "    <tr>\n",
       "      <th>9</th>\n",
       "      <td>W OLYMPIC BLVD</td>\n",
       "      <td>159</td>\n",
       "    </tr>\n",
       "  </tbody>\n",
       "</table>\n",
       "</div>"
      ],
      "text/plain": [
       "          street_name   id\n",
       "0      W SUNSET BLVD   314\n",
       "1        W PICO BLVD   307\n",
       "2      WILSHIRE BLVD   226\n",
       "3     HOLLYWOOD BLVD   197\n",
       "4      S WESTERN AVE   193\n",
       "5  SANTA MONICA BLVD   192\n",
       "6           W 3RD ST   183\n",
       "7      S FIGUEROA ST   174\n",
       "8      S VERMONT AVE   172\n",
       "9     W OLYMPIC BLVD   159"
      ]
     },
     "execution_count": 35,
     "metadata": {},
     "output_type": "execute_result"
    }
   ],
   "source": [
    "pivot_streets = data.pivot_table(index='street_name', values='id', aggfunc='count').sort_values(by='id',ascending=False).reset_index()\n",
    "top_ten = pivot_streets.head(10)\n",
    "top_ten"
   ]
  },
  {
   "cell_type": "code",
   "execution_count": 42,
   "metadata": {
    "slideshow": {
     "slide_type": "subslide"
    }
   },
   "outputs": [
    {
     "data": {
      "image/png": "[encoded data removed]",
      "text/plain": [
       "<Figure size 1224x576 with 1 Axes>"
      ]
     },
     "metadata": {
      "needs_background": "light"
     },
     "output_type": "display_data"
    }
   ],
   "source": [
    "fig, axes = plt.subplots(figsize=(17,8))\n",
    "sns.barplot(x=\"id\", y=\"street_name\", data=top_ten, palette='rainbow', ci=None).set_title('top ten streets by number of extablishments', fontsize=25, color= 'teal')\n",
    "plt.yticks(size= 18)\n",
    "plt.xticks(size= 18)\n",
    "plt.ylabel(\"street name\", fontdict={'size':20})\n",
    "plt.xlabel(\"number of establishments\", fontdict={'size':20})\n",
    "\n",
    "plt.grid()\n",
    "# plt.savefig('/Users/AriAyares/Desktop/yan_charts/top ten streets by number of extablishments.png', bbox_inches='tight')\n",
    "plt.show()\n"
   ]
  },
  {
   "cell_type": "markdown",
   "metadata": {
    "slideshow": {
     "slide_type": "subslide"
    }
   },
   "source": [
    "Sunset, Pico, Wilshire, Hollywood Blvd are our top four streets by number of establishments. Who would have guessed ;)"
   ]
  },
  {
   "cell_type": "markdown",
   "metadata": {
    "slideshow": {
     "slide_type": "subslide"
    }
   },
   "source": [
    "## Find the number of streets that only have one restaurant."
   ]
  },
  {
   "cell_type": "code",
   "execution_count": 37,
   "metadata": {},
   "outputs": [
    {
     "data": {
      "text/plain": [
       "1134"
      ]
     },
     "execution_count": 37,
     "metadata": {},
     "output_type": "execute_result"
    }
   ],
   "source": [
    "only_one = pivot_streets.query('id == 1')\n",
    "len(only_one)"
   ]
  },
  {
   "cell_type": "markdown",
   "metadata": {
    "slideshow": {
     "slide_type": "subslide"
    }
   },
   "source": [
    "We have 1134 streets with only one type of establishment"
   ]
  },
  {
   "cell_type": "markdown",
   "metadata": {
    "slideshow": {
     "slide_type": "slide"
    }
   },
   "source": [
    "## For streets with a lot of restaurants, look at the distribution of the number of seats. What trends can you see?"
   ]
  },
  {
   "cell_type": "markdown",
   "metadata": {
    "slideshow": {
     "slide_type": "subslide"
    }
   },
   "source": [
    "Lets find the streets with the most establishments by finding the 95th and 99th percentiles."
   ]
  },
  {
   "cell_type": "code",
   "execution_count": 38,
   "metadata": {},
   "outputs": [
    {
     "data": {
      "text/plain": [
       "array([ 8., 23.])"
      ]
     },
     "execution_count": 38,
     "metadata": {},
     "output_type": "execute_result"
    }
   ],
   "source": [
    "np.percentile(pivot_streets['id'], [90, 95])"
   ]
  },
  {
   "cell_type": "markdown",
   "metadata": {
    "slideshow": {
     "slide_type": "subslide"
    }
   },
   "source": [
    "So we see that any street with more than 23 establishments would be in the 95th percentile. Lets set our threshold at > 23."
   ]
  },
  {
   "cell_type": "code",
   "execution_count": 39,
   "metadata": {},
   "outputs": [],
   "source": [
    "top_streets = list(pivot_streets[pivot_streets['id'] > 23]['street_name'])"
   ]
  },
  {
   "cell_type": "markdown",
   "metadata": {},
   "source": [
    "Now we have a list of the streets with the most establishments. Lets look at the full dataframe."
   ]
  },
  {
   "cell_type": "code",
   "execution_count": 40,
   "metadata": {},
   "outputs": [
    {
     "data": {
      "text/html": [
       "<div>\n",
       "<style scoped>\n",
       "    .dataframe tbody tr th:only-of-type {\n",
       "        vertical-align: middle;\n",
       "    }\n",
       "\n",
       "    .dataframe tbody tr th {\n",
       "        vertical-align: top;\n",
       "    }\n",
       "\n",
       "    .dataframe thead th {\n",
       "        text-align: right;\n",
       "    }\n",
       "</style>\n",
       "<table border=\"1\" class=\"dataframe\">\n",
       "  <thead>\n",
       "    <tr style=\"text-align: right;\">\n",
       "      <th></th>\n",
       "      <th>id</th>\n",
       "      <th>object_name</th>\n",
       "      <th>address</th>\n",
       "      <th>chain</th>\n",
       "      <th>object_type</th>\n",
       "      <th>number</th>\n",
       "      <th>Indexes</th>\n",
       "      <th>street_name</th>\n",
       "    </tr>\n",
       "  </thead>\n",
       "  <tbody>\n",
       "    <tr>\n",
       "      <th>1</th>\n",
       "      <td>11787</td>\n",
       "      <td>REILLY'S</td>\n",
       "      <td>100 WORLD WAY # 120</td>\n",
       "      <td>0</td>\n",
       "      <td>Restaurant</td>\n",
       "      <td>9</td>\n",
       "      <td>-1</td>\n",
       "      <td>WORLD WAY</td>\n",
       "    </tr>\n",
       "    <tr>\n",
       "      <th>2</th>\n",
       "      <td>11788</td>\n",
       "      <td>STREET CHURROS</td>\n",
       "      <td>6801 HOLLYWOOD BLVD # 253</td>\n",
       "      <td>0</td>\n",
       "      <td>Fast Food</td>\n",
       "      <td>20</td>\n",
       "      <td>-1</td>\n",
       "      <td>HOLLYWOOD BLVD</td>\n",
       "    </tr>\n",
       "    <tr>\n",
       "      <th>3</th>\n",
       "      <td>11789</td>\n",
       "      <td>TRINITI ECHO PARK</td>\n",
       "      <td>1814 W SUNSET BLVD</td>\n",
       "      <td>0</td>\n",
       "      <td>Restaurant</td>\n",
       "      <td>22</td>\n",
       "      <td>-1</td>\n",
       "      <td>W SUNSET BLVD</td>\n",
       "    </tr>\n",
       "    <tr>\n",
       "      <th>5</th>\n",
       "      <td>11791</td>\n",
       "      <td>THE SPOT GRILL</td>\n",
       "      <td>10004 NATIONAL BLVD</td>\n",
       "      <td>0</td>\n",
       "      <td>Restaurant</td>\n",
       "      <td>14</td>\n",
       "      <td>-1</td>\n",
       "      <td>NATIONAL BLVD</td>\n",
       "    </tr>\n",
       "    <tr>\n",
       "      <th>6</th>\n",
       "      <td>11792</td>\n",
       "      <td>CPK</td>\n",
       "      <td>100 WORLD WAY # 126</td>\n",
       "      <td>0</td>\n",
       "      <td>Restaurant</td>\n",
       "      <td>100</td>\n",
       "      <td>-1</td>\n",
       "      <td>WORLD WAY</td>\n",
       "    </tr>\n",
       "  </tbody>\n",
       "</table>\n",
       "</div>"
      ],
      "text/plain": [
       "      id        object_name                    address  chain object_type  \\\n",
       "1  11787           REILLY'S        100 WORLD WAY # 120      0  Restaurant   \n",
       "2  11788     STREET CHURROS  6801 HOLLYWOOD BLVD # 253      0   Fast Food   \n",
       "3  11789  TRINITI ECHO PARK         1814 W SUNSET BLVD      0  Restaurant   \n",
       "5  11791     THE SPOT GRILL        10004 NATIONAL BLVD      0  Restaurant   \n",
       "6  11792                CPK        100 WORLD WAY # 126      0  Restaurant   \n",
       "\n",
       "   number  Indexes      street_name  \n",
       "1       9       -1       WORLD WAY   \n",
       "2      20       -1  HOLLYWOOD BLVD   \n",
       "3      22       -1   W SUNSET BLVD   \n",
       "5      14       -1   NATIONAL BLVD   \n",
       "6     100       -1       WORLD WAY   "
      ]
     },
     "execution_count": 40,
     "metadata": {},
     "output_type": "execute_result"
    }
   ],
   "source": [
    "many_restaurants = data[data['street_name'].isin(top_streets)]\n",
    "many_restaurants.head()"
   ]
  },
  {
   "cell_type": "markdown",
   "metadata": {},
   "source": [
    "Now that we have a list of the top streets with most establishments we can look at the distribution.  "
   ]
  },
  {
   "cell_type": "code",
   "execution_count": 41,
   "metadata": {
    "slideshow": {
     "slide_type": "subslide"
    }
   },
   "outputs": [
    {
     "data": {
      "image/png": "[encoded data removed]",
      "text/plain": [
       "<Figure size 1224x576 with 1 Axes>"
      ]
     },
     "metadata": {
      "needs_background": "light"
     },
     "output_type": "display_data"
    }
   ],
   "source": [
    "fig, axes = plt.subplots(figsize=(17,8))\n",
    "sns.distplot(many_restaurants['number'], bins=10, color=\"red\", hist=None).set_title('distribution of the number of seats, streets with many establishments', fontsize=25, color= 'teal')\n",
    "plt.yticks(rotation=0, size= 12)\n",
    "plt.xticks(rotation=45, size= 12)\n",
    "x_ticks = np.arange(0, 250, 10)\n",
    "y_ticks = np.arange(0, .02, .0010)\n",
    "plt.xticks(x_ticks)\n",
    "plt.yticks(y_ticks)\n",
    "plt.ylabel(\"Density\", fontdict={'size':20})\n",
    "plt.xlabel(\"number of seats\", fontdict={'size':20})\n",
    "\n",
    "plt.grid()\n",
    "# plt.savefig('/Users/AriAyares/Desktop/yan_charts/distribution of the number of seats.png')\n",
    "plt.show()\n"
   ]
  },
  {
   "cell_type": "markdown",
   "metadata": {
    "slideshow": {
     "slide_type": "subslide"
    }
   },
   "source": [
    "### Conclusion:\n",
    "Our density curve above shows us the distribution of the number of seats on streets with many establishments. We can see our trend is a positive skew, meaning our curve is leaning to the right. Lets say we wanted to know how many of the listed establishments had between 10-20 seats. 10-15 falls <> within our density curve so we can estimate. 5*.0185= .0925. So this tells us that 9.25% of our establishments with many seats have between 10-15 seats. \n",
    "\n",
    "As we can see we have many more establishments with 0-50 seats than there are with 60+."
   ]
  },
  {
   "cell_type": "markdown",
   "metadata": {},
   "source": [
    "## Draw an overall conclusion and provide recommendations on restaurant type and number of seats. Comment on the possibility of developing a chain."
   ]
  },
  {
   "cell_type": "markdown",
   "metadata": {
    "slideshow": {
     "slide_type": "slide"
    }
   },
   "source": [
    "### Overall Conclusion:"
   ]
  },
  {
   "cell_type": "markdown",
   "metadata": {
    "slideshow": {
     "slide_type": "subslide"
    }
   },
   "source": [
    "**Recap**\n",
    "\n",
    "- We've decided to open a small robot-run cafe in Los Angeles. The project is promising but expensive, so my partners and I decide to try to attract investors. There is interest in the current market conditions but there is concern if we'll be able to maintain our success when the novelty of robot waiters wears off?\n",
    "- My goal was to prepare some market research based on some open-source data on restaurants in LA we obtained. \n",
    "\n",
    "First, what have we learned? Well, we learned that:\n",
    "- Restaurant is by far the largest segment, with 75% of the market, Fast Food is #2 with 11%\n",
    "- It seems the majority of food establishments are **not chains**. More than 60% are not chains\n",
    "- 100% of Bakeries are chains, Cafe is around 60%, Fast Food around 58%. Pizza, Restaurant, and Bar were all less than 50% chains\n",
    "- Whether a chain or not- Bakery, Cafe, and Fast Food average less seating than Restaurant and Bar. (Again, Bakery, Cafe, and Fast Food are most likely to be chains.)\n",
    "- Sunset, Pico, Wilshire, and Hollywood Blvd are our top four streets by number of establishments.\n",
    "- We found that the top 5% of establishments, by number of seats, have 23+ seats. Meaning that 95% of establishments have 23 seats or less.\n",
    "\n",
    "What is the possibility of developing a chain?\n",
    "- Since we are looking to open a **small robot-run cafe**, as stated in the project description, we have a good chance of transitioning into a chain. \n",
    "- As we saw, 60% Cafe's are chains and the fact we what it small, cafe's on the whole have less seating. \n",
    "- Sunset, Pico, Wilshire, and Hollywood Blvd are very saturated with establishments but they are also the most popular streets in LA. It might not be a bad idea to open a novelty cafe on one of those streets. "
   ]
  },
  {
   "cell_type": "markdown",
   "metadata": {},
   "source": [
    "# Step 3. Preparing a presentation"
   ]
  },
  {
   "cell_type": "markdown",
   "metadata": {},
   "source": [
    "Link to our presentation: https://drive.google.com/file/d/1bVA7p_AzbMoWkheZGI6XA5dqtRerXuV2/view?usp=sharing"
   ]
  }
 ],
 "metadata": {
  "kernelspec": {
   "display_name": "Python 3",
   "language": "python",
   "name": "python3"
  },
  "language_info": {
   "codemirror_mode": {
    "name": "ipython",
    "version": 3
   },
   "file_extension": ".py",
   "mimetype": "text/x-python",
   "name": "python",
   "nbconvert_exporter": "python",
   "pygments_lexer": "ipython3",
   "version": "3.8.3"
  },
  "toc": {
   "base_numbering": 1,
   "nav_menu": {},
   "number_sections": false,
   "sideBar": true,
   "skip_h1_title": false,
   "title_cell": "Table of Contents",
   "title_sidebar": "Contents",
   "toc_cell": true,
   "toc_position": {},
   "toc_section_display": true,
   "toc_window_display": false
  }
 },
 "nbformat": 4,
 "nbformat_minor": 4
}
